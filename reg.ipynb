{
 "cells": [
  {
   "cell_type": "code",
   "execution_count": 1,
   "id": "ddd0d030-a69d-4e38-b1fc-11c335ddb246",
   "metadata": {},
   "outputs": [],
   "source": [
    "import itertools"
   ]
  },
  {
   "cell_type": "code",
   "execution_count": 2,
   "id": "c592c6db-b81d-43f3-8770-ba32236832dc",
   "metadata": {},
   "outputs": [],
   "source": [
    "import matplotlib.pyplot as plt\n",
    "import seaborn as sns"
   ]
  },
  {
   "cell_type": "code",
   "execution_count": 3,
   "id": "9f88437e-e3c9-430f-aada-afa7f1f67cc0",
   "metadata": {},
   "outputs": [],
   "source": [
    "def reg_resid_plots(data):\n",
    "    \"\"\"\n",
    "    Using seaborn, plot the regression and residuals\n",
    "    plots side-by-side for every permutation of 2 columns \n",
    "    in the data.\n",
    "    \n",
    "    Parameters:\n",
    "        - data: A pandas DataFrame\n",
    "\n",
    "    Returns:\n",
    "        A matplotlib Figure object.\n",
    "    \"\"\"\n",
    "    num_cols = data.shape[1]\n",
    "    permutation_count = num_cols * (num_cols - 1)\n",
    "\n",
    "    fig, ax = plt.subplots(permutation_count, 2, figsize=(15, 8))\n",
    "\n",
    "    for (x, y), axes, color in zip(\n",
    "        itertools.permutations(data.columns, 2), \n",
    "        ax,\n",
    "        itertools.cycle(['royalblue', 'darkorange'])\n",
    "    ):\n",
    "        for subplot, func in zip(axes, (sns.regplot, sns.residplot)):\n",
    "            func(x=x, y=y, data=data, ax=subplot, color=color)\n",
    "    plt.close()\n",
    "    return fig"
   ]
  }
 ],
 "metadata": {
  "kernelspec": {
   "display_name": "Python 3 (ipykernel)",
   "language": "python",
   "name": "python3"
  },
  "language_info": {
   "codemirror_mode": {
    "name": "ipython",
    "version": 3
   },
   "file_extension": ".py",
   "mimetype": "text/x-python",
   "name": "python",
   "nbconvert_exporter": "python",
   "pygments_lexer": "ipython3",
   "version": "3.10.12"
  }
 },
 "nbformat": 4,
 "nbformat_minor": 5
}
